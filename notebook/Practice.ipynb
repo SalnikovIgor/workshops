{
 "cells": [
  {
   "cell_type": "markdown",
   "metadata": {},
   "source": [
    "# Practice"
   ]
  },
  {
   "cell_type": "markdown",
   "metadata": {},
   "source": [
    "Now try to use the model to detect faces in a video. Fill in the gaps in the code blocks below. For more information about the OpenVINO Inference Engine Python API, see the [official documentation](https://docs.openvinotoolkit.org/latest/ie_python_api/annotated.html)."
   ]
  },
  {
   "cell_type": "code",
   "execution_count": 1,
   "metadata": {},
   "outputs": [
    {
     "name": "stdout",
     "output_type": "stream",
     "text": [
      "Requirement already satisfied: retinaface-post-processing==0.0.3 in /home/artyom/Developer/repositories/sample/.venv/lib/python3.8/site-packages (from -r requirements.txt (line 1)) (0.0.3)\n",
      "Requirement already satisfied: IPython==7.25.0 in /home/artyom/Developer/repositories/sample/.venv/lib/python3.8/site-packages (from -r requirements.txt (line 2)) (7.25.0)\n",
      "Requirement already satisfied: matplotlib==3.3.4 in /home/artyom/Developer/repositories/sample/.venv/lib/python3.8/site-packages (from -r requirements.txt (line 3)) (3.3.4)\n",
      "Requirement already satisfied: numpy==1.19.5 in /home/artyom/Developer/repositories/sample/.venv/lib/python3.8/site-packages (from retinaface-post-processing==0.0.3->-r requirements.txt (line 1)) (1.19.5)\n",
      "Requirement already satisfied: setuptools>=18.5 in /home/artyom/Developer/repositories/sample/.venv/lib/python3.8/site-packages (from IPython==7.25.0->-r requirements.txt (line 2)) (57.0.0)\n",
      "Requirement already satisfied: prompt-toolkit!=3.0.0,!=3.0.1,<3.1.0,>=2.0.0 in /home/artyom/Developer/repositories/sample/.venv/lib/python3.8/site-packages (from IPython==7.25.0->-r requirements.txt (line 2)) (3.0.19)\n",
      "Requirement already satisfied: matplotlib-inline in /home/artyom/Developer/repositories/sample/.venv/lib/python3.8/site-packages (from IPython==7.25.0->-r requirements.txt (line 2)) (0.1.2)\n",
      "Requirement already satisfied: pygments in /home/artyom/Developer/repositories/sample/.venv/lib/python3.8/site-packages (from IPython==7.25.0->-r requirements.txt (line 2)) (2.9.0)\n",
      "Requirement already satisfied: pickleshare in /home/artyom/Developer/repositories/sample/.venv/lib/python3.8/site-packages (from IPython==7.25.0->-r requirements.txt (line 2)) (0.7.5)\n",
      "Requirement already satisfied: traitlets>=4.2 in /home/artyom/Developer/repositories/sample/.venv/lib/python3.8/site-packages (from IPython==7.25.0->-r requirements.txt (line 2)) (5.0.5)\n",
      "Requirement already satisfied: decorator in /home/artyom/Developer/repositories/sample/.venv/lib/python3.8/site-packages (from IPython==7.25.0->-r requirements.txt (line 2)) (5.0.9)\n",
      "Requirement already satisfied: backcall in /home/artyom/Developer/repositories/sample/.venv/lib/python3.8/site-packages (from IPython==7.25.0->-r requirements.txt (line 2)) (0.2.0)\n",
      "Requirement already satisfied: jedi>=0.16 in /home/artyom/Developer/repositories/sample/.venv/lib/python3.8/site-packages (from IPython==7.25.0->-r requirements.txt (line 2)) (0.18.0)\n",
      "Requirement already satisfied: pexpect>4.3 in /home/artyom/Developer/repositories/sample/.venv/lib/python3.8/site-packages (from IPython==7.25.0->-r requirements.txt (line 2)) (4.8.0)\n",
      "Requirement already satisfied: pyparsing!=2.0.4,!=2.1.2,!=2.1.6,>=2.0.3 in /home/artyom/Developer/repositories/sample/.venv/lib/python3.8/site-packages (from matplotlib==3.3.4->-r requirements.txt (line 3)) (2.4.7)\n",
      "Requirement already satisfied: pillow>=6.2.0 in /home/artyom/Developer/repositories/sample/.venv/lib/python3.8/site-packages (from matplotlib==3.3.4->-r requirements.txt (line 3)) (8.3.1)\n",
      "Requirement already satisfied: kiwisolver>=1.0.1 in /home/artyom/Developer/repositories/sample/.venv/lib/python3.8/site-packages (from matplotlib==3.3.4->-r requirements.txt (line 3)) (1.3.1)\n",
      "Requirement already satisfied: python-dateutil>=2.1 in /home/artyom/Developer/repositories/sample/.venv/lib/python3.8/site-packages (from matplotlib==3.3.4->-r requirements.txt (line 3)) (2.8.2)\n",
      "Requirement already satisfied: cycler>=0.10 in /home/artyom/Developer/repositories/sample/.venv/lib/python3.8/site-packages (from matplotlib==3.3.4->-r requirements.txt (line 3)) (0.10.0)\n",
      "Requirement already satisfied: six in /home/artyom/Developer/repositories/sample/.venv/lib/python3.8/site-packages (from cycler>=0.10->matplotlib==3.3.4->-r requirements.txt (line 3)) (1.16.0)\n",
      "Requirement already satisfied: parso<0.9.0,>=0.8.0 in /home/artyom/Developer/repositories/sample/.venv/lib/python3.8/site-packages (from jedi>=0.16->IPython==7.25.0->-r requirements.txt (line 2)) (0.8.2)\n",
      "Requirement already satisfied: ptyprocess>=0.5 in /home/artyom/Developer/repositories/sample/.venv/lib/python3.8/site-packages (from pexpect>4.3->IPython==7.25.0->-r requirements.txt (line 2)) (0.7.0)\n",
      "Requirement already satisfied: wcwidth in /home/artyom/Developer/repositories/sample/.venv/lib/python3.8/site-packages (from prompt-toolkit!=3.0.0,!=3.0.1,<3.1.0,>=2.0.0->IPython==7.25.0->-r requirements.txt (line 2)) (0.2.5)\n",
      "Requirement already satisfied: ipython-genutils in /home/artyom/Developer/repositories/sample/.venv/lib/python3.8/site-packages (from traitlets>=4.2->IPython==7.25.0->-r requirements.txt (line 2)) (0.2.0)\n"
     ]
    }
   ],
   "source": [
    "!pip install -r requirements.txt"
   ]
  },
  {
   "cell_type": "code",
   "execution_count": 1,
   "metadata": {},
   "outputs": [],
   "source": [
    "import os\n",
    "from pathlib import Path\n",
    "\n",
    "# Contains all data for the workshop\n",
    "WORKSHOP_MODEL_PATH = Path('./data') / 'model'\n",
    "\n",
    "# Path to the Inference Engine model\n",
    "# But you can use the INT8 model instead\n",
    "MODEL_PATH_XML = WORKSHOP_MODEL_PATH / 'retinaface-resnet50-pytorch.xml'\n",
    "MODEL_PATH_BIN = WORKSHOP_MODEL_PATH / 'retinaface-resnet50-pytorch.bin'\n",
    "\n",
    "DEVICE = 'CPU'\n",
    "\n",
    "DATA_PATH = Path('./data')\n",
    "INPUT_VIDEO = str(DATA_PATH / 'input.mp4')\n",
    "OUTPUT_VIDEO = str(DATA_PATH / 'output.MP4')"
   ]
  },
  {
   "cell_type": "code",
   "execution_count": 2,
   "metadata": {},
   "outputs": [
    {
     "data": {
      "text/html": [
       "<video width=\"600\" height=\"400\" controls><source src=\"data/input.mp4\" type=\"video/mp4\"></video>"
      ],
      "text/plain": [
       "<IPython.core.display.HTML object>"
      ]
     },
     "execution_count": 2,
     "metadata": {},
     "output_type": "execute_result"
    }
   ],
   "source": [
    "from IPython.display import HTML\n",
    "\n",
    "\n",
    "# Show a source video\n",
    "HTML(f\"\"\"<video width=\"600\" height=\"400\" controls><source src=\"{INPUT_VIDEO}\" type=\"video/mp4\"></video>\"\"\")"
   ]
  },
  {
   "cell_type": "code",
   "execution_count": 5,
   "metadata": {},
   "outputs": [],
   "source": [
    "def prapare_out_video_stream(input_video_stream, output_video_file_path: str):\n",
    "    width  = int(input_video_stream.get(3))\n",
    "    height = int(input_video_stream.get(4))\n",
    "    return cv2.VideoWriter(output_video_file_path, cv2.VideoWriter_fourcc(*'avc1'), 20, (width, height))"
   ]
  },
  {
   "cell_type": "code",
   "execution_count": 17,
   "metadata": {},
   "outputs": [],
   "source": [
    "# Import OpenCV for work with a video and images\n",
    "import cv2\n",
    "\n",
    "# Import the Inference Engine\n",
    "from openvino.inference_engine import IECore, IENetwork\n",
    "\n",
    "# Import module for process inference results\n",
    "from RetinaFacePostProcessing.retinaface_post_processing import RetinaFacePostPostprocessor\n",
    "\n",
    "import numpy as np"
   ]
  },
  {
   "cell_type": "markdown",
   "metadata": {},
   "source": [
    "### Step 1: Create an instance of the OpenVINO Inference Engine `IECore` class\n",
    "This class represents an Inference Engine entity \n",
    "and allows you to manipulate plugins using unified interfaces. "
   ]
  },
  {
   "cell_type": "code",
   "execution_count": 7,
   "metadata": {},
   "outputs": [],
   "source": [
    "ie = IECore()"
   ]
  },
  {
   "cell_type": "markdown",
   "metadata": {},
   "source": [
    "### Step 2: Read the prepared model\n",
    "\n",
    "You need to create an instance of the IENetwork class.\n",
    "A constructor of this class has two parameters: \n",
    " 1. path to the .xml file of the model \n",
    " 2. path to the .bin file of the model"
   ]
  },
  {
   "cell_type": "code",
   "execution_count": 8,
   "metadata": {},
   "outputs": [],
   "source": [
    "net = ie.read_network(MODEL_PATH_XML, MODEL_PATH_BIN)"
   ]
  },
  {
   "cell_type": "markdown",
   "metadata": {},
   "source": [
    "### Step 3: Get the name of the input layer of the model\n",
    "\n",
    "To infer a model, you need to know input layers of the model\n",
    "The object `net` contains information about inputs of the network in a property `inputs`,\n",
    "which is a dictionary: key - name of the input layer, volume - representation of the input network.\n",
    "In this case, you need to get only the name of the input. `input_blob` should be a string."
   ]
  },
  {
   "cell_type": "code",
   "execution_count": 9,
   "metadata": {},
   "outputs": [
    {
     "name": "stdout",
     "output_type": "stream",
     "text": [
      "Input layer of the network is data\n"
     ]
    }
   ],
   "source": [
    "input_name = next(iter(net.input_info))\n",
    "input_blob = net.input_info[input_name].input_data\n",
    "\n",
    "print(f'Input layer of the network is {input_name}')"
   ]
  },
  {
   "cell_type": "markdown",
   "metadata": {},
   "source": [
    "### Step 4: Get shape (dimensions) of the input layer of the network\n",
    "\n",
    "* n - number of batches\n",
    "* c - number of input image channels (usualy 3 - R, G and B) \n",
    "* h - height\n",
    "* w - width"
   ]
  },
  {
   "cell_type": "code",
   "execution_count": 10,
   "metadata": {},
   "outputs": [
    {
     "name": "stdout",
     "output_type": "stream",
     "text": [
      "Input shape of the network: [1, 3, 640, 640]\n"
     ]
    }
   ],
   "source": [
    "n, c, input_layer_h, input_layer_w = input_blob.shape\n",
    "\n",
    "print(f'Input shape of the network: [{n}, {c}, {input_layer_h}, {input_layer_w}]')"
   ]
  },
  {
   "cell_type": "code",
   "execution_count": 11,
   "metadata": {},
   "outputs": [],
   "source": [
    "out_blob = next(iter(net.outputs))"
   ]
  },
  {
   "cell_type": "markdown",
   "metadata": {},
   "source": [
    "### Step 6: Load the network to a device\n",
    "\n",
    "Use the instance of `IECore`.\n",
    "The class `IECore` has a special function called `load_network`, which loads a network to a device.\n",
    "This function prepares the network for the first inference on the device \n",
    "and returns an instance of the network prepared for an inference (execution). \n",
    "This function has many parameters, but in this case, you need to know only about two of them:\n",
    "* `network` - instance of `IENetwork`\n",
    "* `device_name` - string, contains a device name to infer a model on: CPU, GPU and so on."
   ]
  },
  {
   "cell_type": "code",
   "execution_count": 12,
   "metadata": {},
   "outputs": [],
   "source": [
    "network_loaded_to_device = ie.load_network(net, DEVICE)"
   ]
  },
  {
   "cell_type": "markdown",
   "metadata": {},
   "source": [
    "### Step 7: Open the input video"
   ]
  },
  {
   "cell_type": "code",
   "execution_count": 13,
   "metadata": {},
   "outputs": [],
   "source": [
    "input_video_stream = cv2.VideoCapture(INPUT_VIDEO)"
   ]
  },
  {
   "cell_type": "markdown",
   "metadata": {},
   "source": [
    "### Step 8: PreProcessing "
   ]
  },
  {
   "cell_type": "code",
   "execution_count": 18,
   "metadata": {},
   "outputs": [],
   "source": [
    "def pre_process(frame: np.ndarray, batch, channels, input_layer_h, input_layer_w) -> np.ndarray:\n",
    "    # Resize the frame to the network input \n",
    "    in_frame = cv2.resize(frame, (input_layer_w, input_layer_h))\n",
    "    \n",
    "    # Change the data layout from HWC to CHW\n",
    "    in_frame = in_frame.transpose((2, 0, 1))  \n",
    "    \n",
    "    # Reshape the frame to the network input \n",
    "    in_frame = in_frame.reshape((batch, channels, input_layer_h, input_layer_w))\n",
    "    \n",
    "    return in_frame"
   ]
  },
  {
   "cell_type": "markdown",
   "metadata": {},
   "source": [
    "### Step 8: Create an output video stream"
   ]
  },
  {
   "cell_type": "code",
   "execution_count": 19,
   "metadata": {},
   "outputs": [],
   "source": [
    "output_video_stream = prapare_out_video_stream(input_video_stream, OUTPUT_VIDEO)"
   ]
  },
  {
   "cell_type": "markdown",
   "metadata": {},
   "source": [
    "### Step 9: Function for processing inference results"
   ]
  },
  {
   "cell_type": "code",
   "execution_count": 20,
   "metadata": {},
   "outputs": [],
   "source": [
    "def draw_boxes_in_frame(frame, obj):       \n",
    "    # Step 13: Get the confidence for a discovered object\n",
    "    confidence =  obj[4]\n",
    "        \n",
    "    # Step 14: Draw bounding boxes\n",
    "    # Draw a bounding box only for objects the confidence of which is greater than a specified threshold\n",
    "    # Get coordinates of a discovered object\n",
    "    xmin = int(obj[0])\n",
    "    ymin = int(obj[1])\n",
    "\n",
    "    xmax = int(obj[2])\n",
    "    ymax = int(obj[3])\n",
    "\n",
    "    # Get confidence for a discovered object\n",
    "    confidence = round(confidence * 100, 1)\n",
    "\n",
    "    # Draw a box and a label\n",
    "    color = (0, 255, 0)\n",
    "    cv2.rectangle(frame, (xmin, ymin), (xmax, ymax), color, 2)\n",
    "\n",
    "\n",
    "    # Create the title of an object\n",
    "    text = f'{confidence}%'\n",
    "\n",
    "    # Put the title to a frame\n",
    "    cv2.putText(frame, text, (xmin, ymin - 7), cv2.FONT_HERSHEY_COMPLEX, 2, color, 2)"
   ]
  },
  {
   "cell_type": "markdown",
   "metadata": {},
   "source": [
    "### Step 10: inference face detection function"
   ]
  },
  {
   "cell_type": "code",
   "execution_count": 21,
   "metadata": {},
   "outputs": [],
   "source": [
    "def face_detection(frame: np.ndarray) -> np.ndarray:\n",
    "    feed_dict = {\n",
    "        input_name: in_frame\n",
    "    }\n",
    "    \n",
    "    # All is ready for the main thing - inference!\n",
    "    # You have read and loaded the network to the device, prepared input data and now you are ready to infer.\n",
    "    \n",
    "    # Step 11:\n",
    "    # To start an inference, call the `infer` function of the `network_loaded_to_device` variable. \n",
    "    # We must set input data (a dictionary).\n",
    "    inference_result = network_loaded_to_device.infer(feed_dict)\n",
    "    \n",
    "    # Great! The `inference_result` variable contains output data after inference of the network.\n",
    "    # `inference_result` is a dictionary, \n",
    "    #  where key is the name of the output name, \n",
    "    #        value is data from the blob.\n",
    "    \n",
    "    # Step 12: Then iterate over all discovered objects   \n",
    "    detected_faces = postprocessor.process_output(inference_result)\n",
    "    return detected_faces"
   ]
  },
  {
   "cell_type": "markdown",
   "metadata": {},
   "source": [
    "### Step 10: Loop over frames in the input video"
   ]
  },
  {
   "cell_type": "code",
   "execution_count": 23,
   "metadata": {},
   "outputs": [],
   "source": [
    "frame_w = int(input_video_stream.get(3))   # float `width`\n",
    "frame_h = int(input_video_stream.get(4))  # float `height`\n",
    "\n",
    "postprocessor = RetinaFacePostPostprocessor(origin_image_size=[frame_w, frame_h], input_image_size=[input_layer_h, input_layer_w])\n",
    "    \n",
    "while input_video_stream.isOpened():\n",
    "    # Read the next frame from the intput video \n",
    "    ret, frame = input_video_stream.read()\n",
    "    # Check if the video is over\n",
    "    if not ret:\n",
    "        # Exit from the loop if the video is over\n",
    "        break \n",
    "    \n",
    "    # Prepare frame for inference\n",
    "    in_frame = pre_process(frame, n, c, input_layer_w, input_layer_h)\n",
    "    \n",
    "    \n",
    "    detected_faces = face_detection(in_frame)\n",
    "    \n",
    "    for detected_face in detected_faces:\n",
    "        draw_boxes_in_frame(frame, detected_face)\n",
    "    \n",
    "    # Write the resulting frame to the output stream\n",
    "    output_video_stream.write(frame)\n",
    "    \n",
    "input_video_stream.release()\n",
    "# Save the resulting video\n",
    "output_video_stream.release()"
   ]
  },
  {
   "cell_type": "code",
   "execution_count": 24,
   "metadata": {},
   "outputs": [
    {
     "data": {
      "text/html": [
       "<video width=\"600\" height=\"400\" controls><source src=\"data/output.MP4\" type=\"video/mp4\"></video>"
      ],
      "text/plain": [
       "<IPython.core.display.HTML object>"
      ]
     },
     "execution_count": 24,
     "metadata": {},
     "output_type": "execute_result"
    }
   ],
   "source": [
    "from IPython.display import HTML\n",
    "\n",
    "# Show a source video\n",
    "HTML(f\"\"\"<video width=\"600\" height=\"400\" controls><source src=\"{OUTPUT_VIDEO}\" type=\"video/mp4\"></video>\"\"\")"
   ]
  },
  {
   "cell_type": "markdown",
   "metadata": {},
   "source": [
    "Do you see boxes in the video? \n",
    "If yes, you did all right!\n",
    "**Good Work!** "
   ]
  },
  {
   "cell_type": "markdown",
   "metadata": {},
   "source": [
    "## Section 16: Practice (Part 2)"
   ]
  },
  {
   "cell_type": "markdown",
   "metadata": {},
   "source": [
    "What is the next step? Often from neural networks build pipelines. It is to use the results of the first neural network as an input for the next neural network. \n",
    "Let's try to build a pipeline from two networks:  first is finds a person on the video and the next to recognize the emotions of this person\n",
    "\n",
    "We have already run the first network. And find the person on the video.\n",
    "The next step is to find a network for emotion recognition.\n",
    "There is a good neural network in the [OpenModelZOO](https://docs.openvinotoolkit.org/2019_R1/_docs_Pre_Trained_Models.html) - [emotions-recognition-retail-0003 network](https://docs.openvinotoolkit.org/2019_R1/_emotions_recognition_retail_0003_description_emotions_recognition_retail_0003.html)"
   ]
  },
  {
   "cell_type": "markdown",
   "metadata": {},
   "source": [
    "### Step 1: Download emotions-recognition-retail-0003 network\n",
    "Run the Model Downloader eith needed arguments to download the emotions-recognition-retail-0003 network:"
   ]
  },
  {
   "cell_type": "code",
   "execution_count": 23,
   "metadata": {},
   "outputs": [
    {
     "name": "stdout",
     "output_type": "stream",
     "text": [
      "################|| Downloading emotions-recognition-retail-0003 ||################\n",
      "\n",
      "========== Downloading data/model/intel/emotions-recognition-retail-0003/FP16/emotions-recognition-retail-0003.xml\n",
      "... 100%, 39 KB, 442 KB/s, 0 seconds passed\n",
      "\n",
      "========== Downloading data/model/intel/emotions-recognition-retail-0003/FP16/emotions-recognition-retail-0003.bin\n",
      "... 100%, 4848 KB, 3095 KB/s, 1 seconds passed\n",
      "\n"
     ]
    }
   ],
   "source": [
    "!python3 ${INTEL_OPENVINO_DIR}/deployment_tools/open_model_zoo/tools/downloader/downloader.py --name emotions-recognition-retail-0003 --precision FP16 --output_dir data/model"
   ]
  },
  {
   "cell_type": "markdown",
   "metadata": {},
   "source": [
    "This mode already is in OpenVINO format and you do not need to convert it.\n",
    "\n",
    "After downloading the model you can use it:\n",
    "\n",
    "### Step 2: Read the prepared model\n",
    "The IENetwork class is designed to work with a model in the Inference Engine. This class contains information about the network model read from the Intermediate Representation and allows you to manipulate some model parameters such as layers affinity and output layers.\n",
    "\n",
    "You need to create an instance of the IENetwork class. A constructor of this class has two parameters:\n",
    "\n",
    "path to the .xml file of the model\n",
    "path to the .bin file of the model"
   ]
  },
  {
   "cell_type": "code",
   "execution_count": 26,
   "metadata": {},
   "outputs": [],
   "source": [
    "emotion_recognition_network = ie.read_network('data/model/intel/emotions-recognition-retail-0003/FP16/emotions-recognition-retail-0003.xml', 'data/model/intel/emotions-recognition-retail-0003/FP16/emotions-recognition-retail-0003.bin')"
   ]
  },
  {
   "cell_type": "markdown",
   "metadata": {},
   "source": [
    "### Step 3: Load the network to a device\n",
    "\n",
    "Use the instance of `IECore`.\n",
    "The class `IECore` has a special function called `load_network`, which loads a network to a device.\n",
    "This function prepares the network for the first inference on the device \n",
    "and returns an instance of the network prepared for an inference (execution). \n",
    "This function has many parameters, but in this case, you need to know only about two of them:\n",
    "* `network` - instance of `IENetwork`\n",
    "* `device_name` - string, contains a device name to infer a model on: CPU, GPU and so on."
   ]
  },
  {
   "cell_type": "code",
   "execution_count": 27,
   "metadata": {},
   "outputs": [],
   "source": [
    "emotion_recognition_network_loaded_on_device = ie.load_network(emotion_recognition_network, 'CPU')"
   ]
  },
  {
   "cell_type": "markdown",
   "metadata": {},
   "source": [
    "### Step 4: Open the input video"
   ]
  },
  {
   "cell_type": "code",
   "execution_count": 64,
   "metadata": {},
   "outputs": [],
   "source": [
    "input_video_stream = cv2.VideoCapture(INPUT_VIDEO)"
   ]
  },
  {
   "cell_type": "markdown",
   "metadata": {},
   "source": [
    "### Step 5: Create an output video stream"
   ]
  },
  {
   "cell_type": "code",
   "execution_count": 65,
   "metadata": {},
   "outputs": [],
   "source": [
    "out = prapare_out_video_stream(input_video_stream, OUTPUT_VIDEO)"
   ]
  },
  {
   "cell_type": "markdown",
   "metadata": {},
   "source": [
    "### Step 6: Prepare a frame and run inference"
   ]
  },
  {
   "cell_type": "code",
   "execution_count": 62,
   "metadata": {},
   "outputs": [],
   "source": [
    "def emotion_infer(face):\n",
    "    # Find inputs of the model\n",
    "\n",
    "    em_input_layer = next(iter(emotion_recognition_network.input_info))\n",
    "    em_input_blob = emotion_recognition_network.input_info[em_input_layer].input_data\n",
    "\n",
    "     # Get input shape of the network\n",
    "    n, c, h, w = em_input_blob.shape\n",
    "\n",
    "    # Resize the frame to the network input \n",
    "    em_in_frame = cv2.resize(frame, (h, w))\n",
    "    # Reshape the frame to the network input \n",
    "    em_in_frame = em_in_frame.reshape((n, c, h, w))\n",
    "    \n",
    "    # Find inputs of the model\n",
    "    em_output_layer = out_blob = next(iter(emotion_recognition_network.outputs))\n",
    "    \n",
    "    # Run the inference how you did it early\n",
    "    em_results = emotion_recognition_network_loaded_on_device.infer({\n",
    "        em_input_layer: em_in_frame\n",
    "    })\n",
    "    # For understanding what is the result of inference this model, check documentation \n",
    "    # https://docs.openvinotoolkit.org/latest/_models_intel_emotions_recognition_retail_0003_description_emotions_recognition_retail_0003.html\n",
    "    return em_results[em_output_layer]"
   ]
  },
  {
   "cell_type": "markdown",
   "metadata": {},
   "source": [
    "### Step 16: Drow boxes and emotions in a frame"
   ]
  },
  {
   "cell_type": "code",
   "execution_count": 51,
   "metadata": {},
   "outputs": [],
   "source": [
    "def get_emotion(emotion_inference_result: np.ndarray) -> str:\n",
    "    emotions = ['neutral', 'happy','sad', 'surprise', 'anger']\n",
    "    emotion_index = np.argmax(emotion_inference_result.flatten()) \n",
    "    return emotions[emotion_index]"
   ]
  },
  {
   "cell_type": "code",
   "execution_count": 54,
   "metadata": {},
   "outputs": [],
   "source": [
    "def postpprocess(frame, detected_face, emotion_result):\n",
    "    draw_boxes_in_frame(frame, detected_face)\n",
    "    emotion = get_emotion(emotion_result)\n",
    "    # Put the title to a frame\n",
    "    cv2.putText(frame, emotion, (xmin, ymin + 7), cv2.FONT_HERSHEY_COMPLEX, 2, (0, 0, 255), 2)"
   ]
  },
  {
   "cell_type": "markdown",
   "metadata": {},
   "source": [
    "### Step 17: Loop over frames in the input video"
   ]
  },
  {
   "cell_type": "code",
   "execution_count": 66,
   "metadata": {},
   "outputs": [],
   "source": [
    "import numpy as np\n",
    "\n",
    "while input_video_stream.isOpened():\n",
    "    \n",
    "    # Read the next frame from the intput video \n",
    "    ret, frame = input_video_stream.read()\n",
    "    # Check if the video is over\n",
    "    if not ret:\n",
    "        # Exit from the loop if the video is over\n",
    "        break \n",
    "    in_frame = pre_process(frame, n, c, input_layer_w, input_layer_h)\n",
    "    \n",
    "    detected_faces = face_detection(in_frame)\n",
    "    for detected_face in detected_faces:\n",
    "        xmin = int(detected_face[0])\n",
    "        ymin = int(detected_face[1])\n",
    "\n",
    "        xmax = int(detected_face[2])\n",
    "        ymax = int(detected_face[3])\n",
    "        \n",
    "        face = frame[xmin:xmax-xmin, ymin:ymax-ymin]\n",
    "    \n",
    "        # Get height and width of the frame\n",
    "        emotion_recognition_result = emotion_infer(face)\n",
    "        postpprocess(frame, detected_face, emotion_recognition_result,)\n",
    "        # Write the resulting frame to the output stream\n",
    "    \n",
    "    out.write(frame)\n",
    "    \n",
    "input_video_stream.release()\n",
    "# Save the resulting video\n",
    "out.release()"
   ]
  },
  {
   "cell_type": "markdown",
   "metadata": {},
   "source": [
    "Now the person (Artyom) on the resulting video will be detected with emotion:"
   ]
  },
  {
   "cell_type": "code",
   "execution_count": 67,
   "metadata": {},
   "outputs": [
    {
     "data": {
      "text/html": [
       "<video width=\"600\" height=\"400\" controls><source src=\"data/output.MP4\" type=\"video/mp4\"></video>"
      ],
      "text/plain": [
       "<IPython.core.display.HTML object>"
      ]
     },
     "execution_count": 67,
     "metadata": {},
     "output_type": "execute_result"
    }
   ],
   "source": [
    "# Show a source video\n",
    "HTML(f\"\"\"<video width=\"600\" height=\"400\" controls><source src=\"{OUTPUT_VIDEO}\" type=\"video/mp4\"></video>\"\"\")"
   ]
  },
  {
   "cell_type": "markdown",
   "metadata": {},
   "source": [
    "![](pictures/thankyou.PNG)"
   ]
  }
 ],
 "metadata": {
  "kernelspec": {
   "display_name": "Python 3 (ipykernel)",
   "language": "python",
   "name": "python3"
  },
  "language_info": {
   "codemirror_mode": {
    "name": "ipython",
    "version": 3
   },
   "file_extension": ".py",
   "mimetype": "text/x-python",
   "name": "python",
   "nbconvert_exporter": "python",
   "pygments_lexer": "ipython3",
   "version": "3.8.10"
  }
 },
 "nbformat": 4,
 "nbformat_minor": 4
}